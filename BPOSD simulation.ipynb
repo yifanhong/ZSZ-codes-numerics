{
 "cells": [
  {
   "cell_type": "code",
   "execution_count": 1,
   "id": "473fbc29-a19d-4150-90c4-b5d05ed3ebca",
   "metadata": {},
   "outputs": [],
   "source": [
    "import numpy as np\n",
    "import matplotlib.pyplot as plt\n",
    "import scipy.sparse.linalg\n",
    "from scipy.sparse import csc_matrix, csr_matrix, lil_matrix, identity, diags\n",
    "import scipy.sparse\n",
    "from scipy.io import mmwrite\n",
    "from ldpc.codes import rep_code, hamming_code\n",
    "from bposd.hgp import hgp\n",
    "from bposd.css import css_code\n",
    "from ldpc import BpOsdDecoder\n",
    "from ldpc.bplsd_decoder import BpLsdDecoder\n",
    "from ldpc.code_util import construct_generator_matrix, compute_code_distance\n",
    "from ldpc.mod2 import rank\n",
    "import networkx as nx\n",
    "from networkx.algorithms import bipartite\n",
    "from multiprocess import Pool\n",
    "from matplotlib import rcParams\n",
    "from numba import njit, int32\n",
    "import BPOSD_threshold, MWPM_threshold\n",
    "rcParams['font.size'] = 14\n",
    "rcParams['text.usetex'] = True"
   ]
  },
  {
   "cell_type": "code",
   "execution_count": 2,
   "id": "12cbed6d-e531-44df-a8cb-ceb1308f6e1f",
   "metadata": {},
   "outputs": [],
   "source": [
    "def f(p,a):\n",
    "    return 1-(1-p)**a\n",
    "\n",
    "def df(p,a):\n",
    "    return a*(1-p)**(a-1)\n",
    "\n",
    "def get_err(p, N):\n",
    "    return np.sqrt(p*(1-p)/N)"
   ]
  },
  {
   "cell_type": "markdown",
   "id": "1011c456-f9b4-4215-85a9-6cc077a322e4",
   "metadata": {},
   "source": [
    "# Bivariate Bicycle codes [2308.07915; Table 3]"
   ]
  },
  {
   "cell_type": "code",
   "execution_count": 3,
   "id": "2f6da421-5c9c-4bb0-8769-8f4df153c49c",
   "metadata": {},
   "outputs": [],
   "source": [
    "def get_BB_matrix(a, l, m):\n",
    "    A = 0\n",
    "    for i in range(len(a)):\n",
    "        for j in range(len(a[i])):\n",
    "            if i==0:\n",
    "                A += np.kron(np.roll(np.identity(l),a[i][j],axis=1), np.identity(m)).astype(int)\n",
    "            else:\n",
    "                A += np.kron(np.identity(l), np.roll(np.identity(m),a[i][j],axis=1)).astype(int)\n",
    "    return A % 2\n",
    "\n",
    "def get_BB_Hx_Hz(a, b, l, m):     # a and b are nested lists containing polynomial degrees of x and y\n",
    "    A = get_BB_matrix(a, l, m)\n",
    "    B = get_BB_matrix(b, l, m)\n",
    "    Hx = np.concatenate((A,B),axis=1)\n",
    "    Hz = np.concatenate((B.T,A.T),axis=1)\n",
    "    return Hx, Hz"
   ]
  },
  {
   "cell_type": "code",
   "execution_count": 54,
   "id": "f5ba94a3-32b5-4f86-8385-abaaa016a03f",
   "metadata": {},
   "outputs": [
    {
     "name": "stdout",
     "output_type": "stream",
     "text": [
      "BB code\n",
      " -Block dimensions: Pass\n",
      " -PCMs commute hz@hx.T==0: Pass\n",
      " -PCMs commute hx@hz.T==0: Pass\n",
      " -lx \\in ker{hz} AND lz \\in ker{hx}: Pass\n",
      " -lx and lz anticommute: Pass\n",
      " -BB code is a valid CSS code w/ params [144,12,12]\n"
     ]
    },
    {
     "data": {
      "text/plain": [
       "True"
      ]
     },
     "execution_count": 54,
     "metadata": {},
     "output_type": "execute_result"
    }
   ],
   "source": [
    "Hx, Hz = get_BB_Hx_Hz([[3],[1,2]], [[1,2],[3]], 12, 6)\n",
    "# Hx, Hz = get_BB_Hx_Hz([[3],[2,7]], [[1,2],[3]], 12, 12)\n",
    "# Hx, Hz = get_BB_Hx_Hz([[9],[1,2]], [[25,26],[3]], 30, 6)\n",
    "# Hx, Hz = get_BB_Hx_Hz([[3],[10,17]], [[3,19],[5]], 21, 18)\n",
    "BBcode = css_code(hx=Hx, hz=Hz, name='BB code')\n",
    "BBcode.D = 12     # copy this from Table 3 in the paper\n",
    "BBcode.test()"
   ]
  },
  {
   "cell_type": "markdown",
   "id": "ef5e6b2d-49ae-4bd9-9362-fbb1c1049a90",
   "metadata": {},
   "source": [
    "# ZSZ codes"
   ]
  },
  {
   "cell_type": "code",
   "execution_count": 6,
   "id": "836d5c1e-0b6d-43f5-959e-1c1927aa9ba4",
   "metadata": {},
   "outputs": [],
   "source": [
    "def get_index(i, j, n, m):\n",
    "    return i*m + j\n",
    "\n",
    "def get_exps(index, n, m):\n",
    "    i = index // m\n",
    "    j = index % m\n",
    "    return i, j\n",
    "\n",
    "def get_LR_reps(n, m, l):\n",
    "    La = lil_matrix((n*m,n*m), dtype=np.int8)\n",
    "    Lb = lil_matrix((n*m,n*m), dtype=np.int8)\n",
    "    Ra = lil_matrix((n*m,n*m), dtype=np.int8)\n",
    "    Rb = lil_matrix((n*m,n*m), dtype=np.int8)\n",
    "    for index in range(n*m):\n",
    "        i, j = get_exps(index, n, m)\n",
    "        index_La = get_index((i+1)%n, j, n, m)\n",
    "        index_Lb = get_index((l*i)%n, (j+1)%m, n, m)\n",
    "        index_Ra = get_index((i+pow(l,j,mod=n))%n, j, n, m)\n",
    "        index_Rb = get_index(i, (j+1)%m, n, m)\n",
    "        La[index_La, index] = 1\n",
    "        Lb[index_Lb, index] = 1\n",
    "        Ra[index_Ra, index] = 1\n",
    "        Rb[index_Rb, index] = 1\n",
    "    I = csr_matrix(np.identity(n*m,dtype=np.int8))\n",
    "    return I, csr_matrix(La), csr_matrix(Lb), csr_matrix(Ra), csr_matrix(Rb)\n",
    "\n",
    "def find_ells(n, m):\n",
    "    l_list = []\n",
    "    for l in range(1,n):\n",
    "        if pow(l,m,mod=n) == 1:\n",
    "            l_list.append(l)\n",
    "    return l_list"
   ]
  },
  {
   "cell_type": "code",
   "execution_count": 7,
   "id": "85ce2347-aa87-4c81-9a44-98a617f8348e",
   "metadata": {},
   "outputs": [
    {
     "name": "stdout",
     "output_type": "stream",
     "text": [
      "ZSZ code\n",
      " -Block dimensions: Pass\n",
      " -PCMs commute hz@hx.T==0: Pass\n",
      " -PCMs commute hx@hz.T==0: Pass\n",
      " -lx \\in ker{hz} AND lz \\in ker{hx}: Pass\n",
      " -lx and lz anticommute: Pass\n",
      " -ZSZ code is a valid CSS code w/ params [360,12,nan]\n"
     ]
    },
    {
     "data": {
      "text/plain": [
       "True"
      ]
     },
     "execution_count": 7,
     "metadata": {},
     "output_type": "execute_result"
    }
   ],
   "source": [
    "I,La,Lb,Ra,Rb = get_LR_reps(30,6,11)\n",
    "degs_A = np.array([[12,21,4],[1,4,5]])\n",
    "degs_B = np.array([[4,20,22],[3,3,4]])\n",
    "A = La**degs_A[0,0]*Lb**degs_A[1,0] + La**degs_A[0,1]*Lb**degs_A[1,1] + La**degs_A[0,2]*Lb**degs_A[1,2]\n",
    "B = Rb**degs_B[1,0]*Ra**degs_B[0,0] + Rb**degs_B[1,1]*Ra**degs_B[0,1] + Rb**degs_B[1,2]*Ra**degs_B[0,2]\n",
    "A = A.toarray()\n",
    "B = B.toarray()\n",
    "hx = np.concatenate((A,B), axis=1)\n",
    "hz = np.concatenate((B.T,A.T), axis=1)\n",
    "ZSZcode = css_code(hx=hx, hz=hz, name='ZSZ code')\n",
    "# ZSZcode.D = 16\n",
    "ZSZcode.test()"
   ]
  },
  {
   "cell_type": "markdown",
   "id": "37ba5e8f-fcc3-4cef-9e2b-1456ab403c62",
   "metadata": {},
   "source": [
    "## Output matrices to GAP (QDistRnd)"
   ]
  },
  {
   "cell_type": "code",
   "execution_count": 9,
   "id": "f6a41709-a804-450d-a35f-bde3dbbc20a7",
   "metadata": {},
   "outputs": [],
   "source": [
    "mmwrite('Matrices/ZSZ{}_Hx.mtx'.format(ZSZcode.N), ZSZcode.hx, field='integer')\n",
    "mmwrite('Matrices/ZSZ{}_Hz.mtx'.format(ZSZcode.N), ZSZcode.hz, field='integer')"
   ]
  },
  {
   "cell_type": "markdown",
   "id": "808bc8a8-9ac7-42a9-b17c-2da16435361a",
   "metadata": {},
   "source": [
    "# _______________________________________________________________________"
   ]
  },
  {
   "cell_type": "markdown",
   "id": "7b810c2c-7a7d-450d-aa36-e68299e2e501",
   "metadata": {},
   "source": [
    "# O(d) rounds with final perfect round"
   ]
  },
  {
   "cell_type": "code",
   "execution_count": 17,
   "id": "b75cc843-7373-4024-8ca0-75529bbc8be5",
   "metadata": {},
   "outputs": [
    {
     "name": "stdout",
     "output_type": "stream",
     "text": [
      "[0.001      0.00129155 0.0016681  0.00215443 0.00278256 0.00359381\n",
      " 0.00464159 0.00599484 0.00774264 0.01      ]\n"
     ]
    }
   ],
   "source": [
    "res = 10\n",
    "p_min = 1E-3\n",
    "p_max = 1E-2\n",
    "p_list = np.logspace(np.log10(p_min), np.log10(p_max), res)\n",
    "print(p_list)"
   ]
  },
  {
   "cell_type": "code",
   "execution_count": 64,
   "id": "98ef3507-882b-4dce-92ca-fba81362c0fc",
   "metadata": {},
   "outputs": [
    {
     "name": "stdout",
     "output_type": "stream",
     "text": [
      "[0.001      0.00129155 0.0016681  0.00215443 0.00278256 0.00359381\n",
      " 0.00464159 0.00599484 0.00774264 0.01      ]\n"
     ]
    }
   ],
   "source": [
    "p_list = np.load('Data/p_list_BB144.npy')\n",
    "res = len(p_list)\n",
    "print(p_list)"
   ]
  },
  {
   "cell_type": "code",
   "execution_count": 65,
   "id": "4ae56f35-89b9-497c-8fb9-9c0c38cf81ac",
   "metadata": {},
   "outputs": [
    {
     "name": "stdout",
     "output_type": "stream",
     "text": [
      "Progress: 10 / 10     "
     ]
    }
   ],
   "source": [
    "sim_code = BBcode\n",
    "cycles = 12\n",
    "iters = np.logspace(5, 2, res, dtype=int)\n",
    "circuit_seed = 0\n",
    "\n",
    "THREADS = 8    # Number of parallel threads\n",
    "pool = Pool(processes=THREADS)\n",
    "\n",
    "for r in range(0,res):\n",
    "    print('Progress: {} / {}     '.format(r+1,res), end='\\r')\n",
    "    \n",
    "    params = (sim_code, [1000,5], p_list[r]/10, p_list[r], p_list[r], iters[r]//THREADS, cycles, circuit_seed)\n",
    "    args = [params for j in range(THREADS)]\n",
    "    if __name__ ==  '__main__':\n",
    "        failures = pool.starmap(BPOSD_threshold.get_BPOSD_failures, args)\n",
    "        LERs = [np.sum(failures), iters[r]//THREADS*THREADS]\n",
    "\n",
    "    LERs_saved = np.load('Data/BB{}_LERs_w={}.npy'.format(sim_code.N,cycles))\n",
    "    LERs_saved[r] += LERs\n",
    "    np.save('Data/BB{}_LERs_w={}.npy'.format(sim_code.N,cycles), LERs_saved)\n",
    "    \n",
    "pool.close()"
   ]
  },
  {
   "cell_type": "code",
   "execution_count": 13,
   "id": "a8a4548e-6a67-46b0-a375-6a2e40b11784",
   "metadata": {},
   "outputs": [
    {
     "name": "stdout",
     "output_type": "stream",
     "text": [
      "[14, 42160]\n"
     ]
    }
   ],
   "source": [
    "print(LERs)"
   ]
  },
  {
   "cell_type": "code",
   "execution_count": 17,
   "id": "f0c2592f-6384-4290-a0c3-f93533961b51",
   "metadata": {},
   "outputs": [],
   "source": [
    "np.save('Data/p_list_BB288', p_list)"
   ]
  },
  {
   "cell_type": "code",
   "execution_count": 14,
   "id": "f539fd41-8404-4b74-b9f5-088ce4e26fcf",
   "metadata": {},
   "outputs": [],
   "source": [
    "np.save('Data/BB144_LERs_w={}'.format(12), np.zeros([res,2],dtype=int))"
   ]
  },
  {
   "cell_type": "code",
   "execution_count": 66,
   "id": "30a6ce0f-e6ce-48b7-a4e3-adabd0dbc817",
   "metadata": {},
   "outputs": [
    {
     "name": "stdout",
     "output_type": "stream",
     "text": [
      "[[     58 1200000]\n",
      " [     40  498600]\n",
      " [     77  193784]\n",
      " [    158   76408]\n",
      " [    136   30600]\n",
      " [    229   12448]\n",
      " [    382    5152]\n",
      " [   1085    2160]\n",
      " [    677     896]\n",
      " [    384     384]]\n"
     ]
    }
   ],
   "source": [
    "print(np.load('Data/BB144_LERs_w={}.npy'.format(12)))"
   ]
  },
  {
   "cell_type": "code",
   "execution_count": null,
   "id": "4278f02c-e311-4b47-87df-244bb33da781",
   "metadata": {},
   "outputs": [],
   "source": []
  },
  {
   "cell_type": "markdown",
   "id": "fab269d5-f94e-4d9c-a51b-2b2d03cd1c8e",
   "metadata": {},
   "source": [
    "# Plot $k=2$ ZSZ codes"
   ]
  },
  {
   "cell_type": "code",
   "execution_count": 99,
   "id": "c0624330-a826-4b75-9f77-ed63227697b1",
   "metadata": {},
   "outputs": [
    {
     "data": {
      "image/png": "[encoded data removed]",
      "text/plain": [
       "<Figure size 600x500 with 1 Axes>"
      ]
     },
     "metadata": {},
     "output_type": "display_data"
    }
   ],
   "source": [
    "p_lists = []\n",
    "p_lists.append(np.load('Data/p_list_ZSZ80.npy'))\n",
    "p_lists.append(np.load('Data/p_list_ZSZ108.npy'))\n",
    "p_lists.append(np.load('Data/p_list_ZSZ160.npy'))\n",
    "p_lists.append(np.load('Data/p_list_ZSZ180.npy'))\n",
    "p_lists.append(np.load('Data/p_list_ZSZ288.npy'))\n",
    "p_lists.append(np.load('Data/p_list_ZSZ360.npy'))\n",
    "\n",
    "p_lists_SC = []\n",
    "p_lists_SC.append(np.load('Data/p_list_SC_d=7.npy'))\n",
    "p_lists_SC.append(np.load('Data/p_list_SC_d=9.npy'))\n",
    "p_lists_SC.append(np.load('Data/p_list_SC_d=11.npy'))\n",
    "p_lists_SC.append(np.load('Data/p_list_SC_d=13.npy'))\n",
    "\n",
    "ZSZdata = []\n",
    "ZSZdata.append(np.load('Data/ZSZ80_LERs_w=10.npy'))\n",
    "ZSZdata.append(np.load('Data/ZSZ108_LERs_w=12.npy'))\n",
    "ZSZdata.append(np.load('Data/ZSZ160_LERs_w=16.npy'))\n",
    "ZSZdata.append(np.load('Data/ZSZ180_LERs_w=18.npy'))\n",
    "ZSZdata.append(np.load('Data/ZSZ288_LERs_w=16.npy'))\n",
    "ZSZdata.append(np.load('Data/ZSZ360_LERs_w=20.npy'))\n",
    "\n",
    "SCdata = []\n",
    "SCdata.append(np.load('Data/SC_d=7.npy'))\n",
    "SCdata.append(np.load('Data/SC_d=9.npy'))\n",
    "SCdata.append(np.load('Data/SC_d=11.npy'))\n",
    "SCdata.append(np.load('Data/SC_d=13.npy'))\n",
    "\n",
    "y = []\n",
    "y_errs = []\n",
    "for i in range(len(ZSZdata)):\n",
    "    p = ZSZdata[i][:,0]/ZSZdata[i][:,1]\n",
    "    y.append(p)\n",
    "    y_errs.append(np.sqrt(p*(1-p)/ZSZdata[i][:,1]))\n",
    "\n",
    "z = []\n",
    "z_errs = []\n",
    "for i in range(len(SCdata)):\n",
    "    p = SCdata[i][:,0]/SCdata[i][:,1]\n",
    "    z.append(p)\n",
    "    z_errs.append(np.sqrt(p*(1-p)/SCdata[i][:,1]))\n",
    "\n",
    "labels=['ZSZ80', 'ZSZ108', 'ZSZ160', 'ZSZ180', 'ZSZ288-1', 'ZSZ360-1']\n",
    "labels_SC=['$d=7$ SC', '$d=9$ SC', '$d=11$ SC', '$d=13$ SC']\n",
    "plt.figure(figsize=[6,5])\n",
    "for i in range(len(y)):\n",
    "    plt.errorbar(p_lists[i], y[i], yerr=y_errs[i], fmt='o-', capsize=3, label=labels[i])\n",
    "for i in range(len(z)):\n",
    "    plt.errorbar(p_lists_SC[i], z[i], yerr=z_errs[i], fmt='.:', capsize=1, alpha=0.6, label=labels_SC[i])\n",
    "plt.xlabel('$p$', fontsize=16)\n",
    "plt.ylabel(r'Logical BLER', fontsize=16)\n",
    "# plt.title('$d$ rounds, $p_1=p/10$, $p_2=p_{\\mathrm{spam}}=p$')\n",
    "plt.yscale('log')\n",
    "plt.xscale('log')\n",
    "plt.figtext(0.18, 0.88, '$d$ SE cycles', size=16)\n",
    "plt.legend(fontsize=12)\n",
    "plt.tight_layout()\n",
    "# plt.savefig('Plots/ZSZ_vs_SC_BLER.pdf')"
   ]
  },
  {
   "cell_type": "markdown",
   "id": "2083f9a7-ea4f-46ad-946c-b3197df64074",
   "metadata": {},
   "source": [
    "# Surface code"
   ]
  },
  {
   "cell_type": "code",
   "execution_count": 70,
   "id": "54011b8b-923b-4683-8b28-158685523115",
   "metadata": {},
   "outputs": [
    {
     "name": "stdout",
     "output_type": "stream",
     "text": [
      "[0.003      0.00381678 0.00485593 0.00617801 0.00786003 0.01      ]\n"
     ]
    }
   ],
   "source": [
    "res = 6\n",
    "p_min = 3E-3\n",
    "p_max = 1E-2\n",
    "p_list = np.logspace(np.log10(p_min), np.log10(p_max), res)\n",
    "print(p_list)"
   ]
  },
  {
   "cell_type": "code",
   "execution_count": 75,
   "id": "8d0af986-d922-4c2c-81b4-c2a4c84634b6",
   "metadata": {},
   "outputs": [
    {
     "name": "stdout",
     "output_type": "stream",
     "text": [
      "Progress: 6 / 6     "
     ]
    }
   ],
   "source": [
    "d = 19\n",
    "surface_code = hgp(h1=rep_code(d),h2=rep_code(d))\n",
    "cycles = d\n",
    "iters = np.logspace(7, 2, res, dtype=int)\n",
    "circuit_seed = 0\n",
    "\n",
    "THREADS = 10    # Number of parallel threads\n",
    "pool = Pool(processes=THREADS)\n",
    "\n",
    "for r in range(0,res):\n",
    "    print('Progress: {} / {}     '.format(r+1,res), end='\\r')\n",
    "    \n",
    "    params = (surface_code, p_list[r]/10, p_list[r], p_list[r], iters[r]//THREADS, cycles, circuit_seed)\n",
    "    args = [params for j in range(THREADS)]\n",
    "    if __name__ ==  '__main__':\n",
    "        failures = pool.starmap(MWPM_threshold.get_MWPM_failures, args)\n",
    "        LERs = [np.sum(failures), iters[r]//THREADS*THREADS]\n",
    "\n",
    "    LERs_saved = np.load('Data/SC_d={}.npy'.format(d))\n",
    "    LERs_saved[r] += LERs\n",
    "    np.save('Data/SC_d={}.npy'.format(d), LERs_saved)\n",
    "    \n",
    "pool.close()"
   ]
  },
  {
   "cell_type": "code",
   "execution_count": 71,
   "id": "b74a89ca-9038-4316-9160-97b1e9aa4a24",
   "metadata": {},
   "outputs": [],
   "source": [
    "np.save('Data/p_list_SC_d=19', p_list)"
   ]
  },
  {
   "cell_type": "code",
   "execution_count": 73,
   "id": "9555b25a-b652-40b4-a811-70f79f209775",
   "metadata": {},
   "outputs": [],
   "source": [
    "np.save('Data/SC_d={}'.format(19), np.zeros([res,2],dtype=int))"
   ]
  },
  {
   "cell_type": "code",
   "execution_count": 76,
   "id": "60f14f77-a6a5-4153-bb65-24e085aa13d9",
   "metadata": {},
   "outputs": [
    {
     "name": "stdout",
     "output_type": "stream",
     "text": [
      "[[      10 10000000]\n",
      " [      14  1000000]\n",
      " [      17   100000]\n",
      " [      40    10000]\n",
      " [      50     1000]\n",
      " [      28      100]]\n"
     ]
    }
   ],
   "source": [
    "print(np.load('Data/SC_d={}.npy'.format(19)))"
   ]
  },
  {
   "cell_type": "code",
   "execution_count": null,
   "id": "3127eab9-27bf-4240-82ab-bf07434fa878",
   "metadata": {},
   "outputs": [],
   "source": []
  }
 ],
 "metadata": {
  "kernelspec": {
   "display_name": "Python 3 (ipykernel)",
   "language": "python",
   "name": "python3"
  },
  "language_info": {
   "codemirror_mode": {
    "name": "ipython",
    "version": 3
   },
   "file_extension": ".py",
   "mimetype": "text/x-python",
   "name": "python",
   "nbconvert_exporter": "python",
   "pygments_lexer": "ipython3",
   "version": "3.10.16"
  }
 },
 "nbformat": 4,
 "nbformat_minor": 5
}
